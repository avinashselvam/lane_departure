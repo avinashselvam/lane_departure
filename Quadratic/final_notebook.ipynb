{
 "cells": [
  {
   "cell_type": "code",
   "execution_count": 1,
   "metadata": {},
   "outputs": [],
   "source": [
    "from calibration import get_undistorted\n",
    "from sobel import get_combined_binary\n",
    "from perspective import get_warped\n",
    "import cv2\n",
    "import matplotlib.pyplot as plt\n",
    "import numpy as np"
   ]
  },
  {
   "cell_type": "code",
   "execution_count": 3,
   "metadata": {},
   "outputs": [
    {
     "name": "stdout",
     "output_type": "stream",
     "text": [
      "uint8\n",
      "float64\n"
     ]
    },
    {
     "data": {
      "image/png": "[encoded data removed]",
      "text/plain": [
       "<matplotlib.figure.Figure at 0x2085c0f2fd0>"
      ]
     },
     "metadata": {},
     "output_type": "display_data"
    }
   ],
   "source": [
    "PATH = 'test2.jpg'\n",
    "INPUT_SIZE = (1280, 720)\n",
    "\n",
    "img = cv2.imread(PATH)\n",
    "img = cv2.resize(img, INPUT_SIZE)\n",
    "\n",
    "def show(img):\n",
    "    plt.imshow(img, cmap='gray'); plt.show()\n",
    "\n",
    "def binarise(img):\n",
    "    ret, thresh = cv2.threshold(img, 50, 255, cv2.THRESH_BINARY)\n",
    "    show(thresh)\n",
    "    return thresh\n",
    "\n",
    "# gets x coordinates where there a lot of whites\n",
    "def half_histogram(img):\n",
    "    height = img.shape[0]\n",
    "    # compute sum of pixels columnwise\n",
    "    histogram = np.sum(img[height//2:,:], axis=0)\n",
    "    return histogram    \n",
    "\n",
    "# show(img)\n",
    "\n",
    "# undistorted = undistort_img(img)\n",
    "masked = get_combined_binary(img)\n",
    "warped = get_warped(masked)\n",
    "warped = binarise(warped)\n",
    "\n",
    "# show(masked)"
   ]
  },
  {
   "cell_type": "code",
   "execution_count": 4,
   "metadata": {},
   "outputs": [
    {
     "data": {
      "image/png": "[encoded data removed]",
      "text/plain": [
       "<matplotlib.figure.Figure at 0x2085c0c6a20>"
      ]
     },
     "metadata": {},
     "output_type": "display_data"
    },
    {
     "data": {
      "image/png": "[encoded data removed]",
      "text/plain": [
       "<matplotlib.figure.Figure at 0x2085c0c6fd0>"
      ]
     },
     "metadata": {},
     "output_type": "display_data"
    }
   ],
   "source": [
    "hist = half_histogram(warped)\n",
    "\n",
    "mid_X = 640\n",
    "\n",
    "left, right = warped[:,:mid_X], warped[:,mid_X:]\n",
    "\n",
    "show(left)\n",
    "show(right)\n",
    "\n",
    "left_ys, left_xs = left.nonzero()\n",
    "right_ys, right_xs = right.nonzero()"
   ]
  },
  {
   "cell_type": "code",
   "execution_count": 5,
   "metadata": {},
   "outputs": [
    {
     "data": {
      "text/plain": [
       "array([  0, 255], dtype=uint8)"
      ]
     },
     "execution_count": 5,
     "metadata": {},
     "output_type": "execute_result"
    }
   ],
   "source": [
    "np.unique(left)"
   ]
  },
  {
   "cell_type": "code",
   "execution_count": 6,
   "metadata": {},
   "outputs": [
    {
     "data": {
      "text/plain": [
       "array([  0, 255], dtype=uint8)"
      ]
     },
     "execution_count": 6,
     "metadata": {},
     "output_type": "execute_result"
    }
   ],
   "source": [
    "np.unique(right)"
   ]
  },
  {
   "cell_type": "code",
   "execution_count": 8,
   "metadata": {},
   "outputs": [],
   "source": [
    "def get_thin(part_of_img):\n",
    "    box = np.zeros((72,64))\n",
    "    Xs, Ys = [], []\n",
    "\n",
    "    for row in range(72):\n",
    "        sums = []\n",
    "        for col in range(64):\n",
    "            sums.append(np.sum(part_of_img[row*10:(row+1)*10,col*10:(col+1)*10]))\n",
    "        white_x = np.argmax(sums)\n",
    "        if white_x:\n",
    "            box[row, white_x] = 255\n",
    "            Ys.append(row)\n",
    "            Xs.append(white_x)\n",
    "\n",
    "    return box, Xs, Ys[::-1]\n",
    "        "
   ]
  },
  {
   "cell_type": "code",
   "execution_count": null,
   "metadata": {},
   "outputs": [],
   "source": []
  },
  {
   "cell_type": "code",
   "execution_count": 9,
   "metadata": {
    "scrolled": true
   },
   "outputs": [
    {
     "name": "stdout",
     "output_type": "stream",
     "text": [
      "[-0.0958605   0.39984707 65.01298077]\n"
     ]
    },
    {
     "data": {
      "image/png": "[encoded data removed]",
      "text/plain": [
       "<matplotlib.figure.Figure at 0x2085c2026a0>"
      ]
     },
     "metadata": {},
     "output_type": "display_data"
    },
    {
     "data": {
      "image/png": "[encoded data removed]",
      "text/plain": [
       "<matplotlib.figure.Figure at 0x2085c257c88>"
      ]
     },
     "metadata": {},
     "output_type": "display_data"
    }
   ],
   "source": [
    "box1, x1, y1 = get_thin(left)\n",
    "\n",
    "left_fit = np.polyfit(x1, y1, 2)\n",
    "print(left_fit)\n",
    "\n",
    "p = np.poly1d(left_fit)\n",
    "\n",
    "show(box1)\n",
    "\n",
    "plt.scatter(x1,p(x1), marker='.')\n",
    "plt.show()\n"
   ]
  },
  {
   "cell_type": "code",
   "execution_count": 10,
   "metadata": {},
   "outputs": [],
   "source": [
    "# print(list([[x,y] for x, y in zip(x1,y1)]))"
   ]
  },
  {
   "cell_type": "code",
   "execution_count": 11,
   "metadata": {},
   "outputs": [
    {
     "name": "stdout",
     "output_type": "stream",
     "text": [
      "[-0.07698292  2.46876305 35.4836821 ]\n"
     ]
    },
    {
     "data": {
      "image/png": "[encoded data removed]",
      "text/plain": [
       "<matplotlib.figure.Figure at 0x2085c2755c0>"
      ]
     },
     "metadata": {},
     "output_type": "display_data"
    },
    {
     "data": {
      "image/png": "[encoded data removed]",
      "text/plain": [
       "<matplotlib.figure.Figure at 0x2085c2ccb38>"
      ]
     },
     "metadata": {},
     "output_type": "display_data"
    }
   ],
   "source": [
    "box2, x2, y2 = get_thin(right)\n",
    "\n",
    "right_fit = np.polyfit(x2, y2, 2)\n",
    "\n",
    "print(right_fit)\n",
    "\n",
    "p2 = np.poly1d(right_fit)\n",
    "\n",
    "show(box2)\n",
    "\n",
    "plt.scatter(x2, p(x2), marker='.')\n",
    "plt.show()\n"
   ]
  },
  {
   "cell_type": "code",
   "execution_count": 25,
   "metadata": {},
   "outputs": [],
   "source": [
    "xl = list(range(min(x1),max(x2)))\n",
    "yl = p(xl)\n",
    "\n",
    "xr = list(range(min(x2),max(x2)))\n",
    "yr = p2(xr)"
   ]
  },
  {
   "cell_type": "code",
   "execution_count": 30,
   "metadata": {},
   "outputs": [],
   "source": [
    "pts1 = list([[x*10, y*10] for x, y in zip(xl,yl)])\n",
    "pts2 = list([[x*10 + mid_X, y*10] for x, y in zip(xr,yr)])\n",
    "\n",
    "pts = pts1[::-1] + pts2\n",
    "            \n",
    "poly = cv2.fillPoly(np.zeros((720, 1280)), [np.int_(pts)], 2)"
   ]
  },
  {
   "cell_type": "code",
   "execution_count": 32,
   "metadata": {},
   "outputs": [
    {
     "data": {
      "image/png": "[encoded data removed]",
      "text/plain": [
       "<matplotlib.figure.Figure at 0x2085bdbee10>"
      ]
     },
     "metadata": {},
     "output_type": "display_data"
    }
   ],
   "source": [
    "show(poly[::-1,:])"
   ]
  },
  {
   "cell_type": "code",
   "execution_count": 33,
   "metadata": {},
   "outputs": [
    {
     "data": {
      "image/png": "[encoded data removed]",
      "text/plain": [
       "<matplotlib.figure.Figure at 0x2085bdbe4a8>"
      ]
     },
     "metadata": {},
     "output_type": "display_data"
    }
   ],
   "source": [
    "show(warped)"
   ]
  },
  {
   "cell_type": "code",
   "execution_count": null,
   "metadata": {},
   "outputs": [],
   "source": []
  },
  {
   "cell_type": "code",
   "execution_count": null,
   "metadata": {},
   "outputs": [],
   "source": []
  }
 ],
 "metadata": {
  "kernelspec": {
   "display_name": "Python [conda env:datasci]",
   "language": "python",
   "name": "conda-env-datasci-py"
  },
  "language_info": {
   "codemirror_mode": {
    "name": "ipython",
    "version": 3
   },
   "file_extension": ".py",
   "mimetype": "text/x-python",
   "name": "python",
   "nbconvert_exporter": "python",
   "pygments_lexer": "ipython3",
   "version": "3.5.4"
  }
 },
 "nbformat": 4,
 "nbformat_minor": 2
}
